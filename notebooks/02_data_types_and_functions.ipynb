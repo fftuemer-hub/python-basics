{
 "cells": [
  {
   "cell_type": "code",
   "execution_count": 1,
   "id": "98b1fcd3-a382-4d11-8db3-93b79d34268c",
   "metadata": {},
   "outputs": [
    {
     "name": "stdout",
     "output_type": "stream",
     "text": [
      "İlk eleman: ISO 9001\n",
      "Güncel liste: ['ISO 9001', 'ISO 13485', 'MDSAP', 'CE', 'GMP']\n",
      "Toplam: 5\n"
     ]
    }
   ],
   "source": [
    "audits = [\"ISO 9001\", \"ISO 13485\", \"MDSAP\", \"CE\"]\n",
    "print(\"İlk eleman:\", audits[0])\n",
    "audits.append(\"GMP\")\n",
    "print(\"Güncel liste:\", audits)\n",
    "print(\"Toplam:\", len(audits))\n"
   ]
  },
  {
   "cell_type": "code",
   "execution_count": 2,
   "id": "a9b6a2b3-5189-4556-84a9-43cad90d4df5",
   "metadata": {},
   "outputs": [
    {
     "name": "stdout",
     "output_type": "stream",
     "text": [
      "Risk Seviyeleri: ('Low', 'Medium', 'High', 'Critical')\n"
     ]
    }
   ],
   "source": [
    "risk_levels = (\"Low\", \"Medium\", \"High\", \"Critical\")\n",
    "print(\"Risk Seviyeleri:\", risk_levels)\n"
   ]
  },
  {
   "cell_type": "code",
   "execution_count": 3,
   "id": "0de02607-e086-4888-b5ec-f6e3b2b20dec",
   "metadata": {},
   "outputs": [
    {
     "name": "stdout",
     "output_type": "stream",
     "text": [
      "Departmanlar: {'Production', 'RA', 'QA'}\n",
      "Güncel set: {'Production', 'RA', 'QA', 'Maintenance'}\n"
     ]
    }
   ],
   "source": [
    "departments = {\"QA\", \"RA\", \"Production\", \"QA\"}\n",
    "print(\"Departmanlar:\", departments)  # QA bir kez görünür\n",
    "departments.add(\"Maintenance\")\n",
    "print(\"Güncel set:\", departments)\n"
   ]
  },
  {
   "cell_type": "code",
   "execution_count": 4,
   "id": "e760fbc4-5128-43b4-becf-4fe776bd84c6",
   "metadata": {},
   "outputs": [
    {
     "name": "stdout",
     "output_type": "stream",
     "text": [
      "Cihaz: Surgical Lamp\n",
      "Risk Sınıfı: IIb\n",
      "name: Surgical Lamp\n",
      "risk_class: IIb\n",
      "standard: IEC 60601-1\n",
      "manufacturer: Conformia Medical\n"
     ]
    }
   ],
   "source": [
    "device = {\n",
    "    \"name\": \"Surgical Lamp\",\n",
    "    \"risk_class\": \"IIb\",\n",
    "    \"standard\": \"IEC 60601-1\",\n",
    "    \"manufacturer\": \"Conformia Medical\"\n",
    "}\n",
    "\n",
    "print(\"Cihaz:\", device[\"name\"])\n",
    "print(\"Risk Sınıfı:\", device[\"risk_class\"])\n",
    "for key, value in device.items():\n",
    "    print(f\"{key}: {value}\")\n"
   ]
  },
  {
   "cell_type": "code",
   "execution_count": 5,
   "id": "df71012a-9e98-499f-a94a-29968556149a",
   "metadata": {},
   "outputs": [
    {
     "name": "stdout",
     "output_type": "stream",
     "text": [
      "Risk seviyesi: Medium\n",
      "Risk seviyesi: High\n"
     ]
    }
   ],
   "source": [
    "def calculate_risk_score(probability, severity):\n",
    "    score = probability * severity\n",
    "    if score < 4:\n",
    "        return \"Low\"\n",
    "    elif score < 8:\n",
    "        return \"Medium\"\n",
    "    else:\n",
    "        return \"High\"\n",
    "\n",
    "print(\"Risk seviyesi:\", calculate_risk_score(2, 3))\n",
    "print(\"Risk seviyesi:\", calculate_risk_score(3, 3))\n"
   ]
  },
  {
   "cell_type": "code",
   "execution_count": 6,
   "id": "efa4027b-be46-4b84-8f4e-ba9ad1a7da1f",
   "metadata": {},
   "outputs": [
    {
     "name": "stdout",
     "output_type": "stream",
     "text": [
      "4\n",
      "6.5\n"
     ]
    }
   ],
   "source": [
    "data = [2, 4, 6, 8]\n",
    "data.append(10)\n",
    "data.remove(4)\n",
    "print(len(data))\n",
    "print(sum(data)/len(data))\n"
   ]
  },
  {
   "cell_type": "code",
   "execution_count": 7,
   "id": "6dadd9de-c2aa-4350-9181-f7139f6e5727",
   "metadata": {},
   "outputs": [
    {
     "name": "stdout",
     "output_type": "stream",
     "text": [
      "Risk değerlendirmesi:\n",
      "Documentation: Medium\n",
      "Production: High\n",
      "Supplier: High\n"
     ]
    }
   ],
   "source": [
    "complaints = [\n",
    "    {\"category\": \"Documentation\", \"severity\": 2, \"probability\": 3},\n",
    "    {\"category\": \"Production\", \"severity\": 3, \"probability\": 3},\n",
    "    {\"category\": \"Supplier\", \"severity\": 4, \"probability\": 2}\n",
    "]\n",
    "\n",
    "for c in complaints:\n",
    "    c[\"risk\"] = calculate_risk_score(c[\"probability\"], c[\"severity\"])\n",
    "\n",
    "print(\"Risk değerlendirmesi:\")\n",
    "for c in complaints:\n",
    "    print(f\"{c['category']}: {c['risk']}\")\n"
   ]
  },
  {
   "cell_type": "code",
   "execution_count": 8,
   "id": "22620831-ea1a-41a7-b1ec-71e5c776baf0",
   "metadata": {},
   "outputs": [
    {
     "name": "stdout",
     "output_type": "stream",
     "text": [
      "🎯 Week 1 – Part 2 completed! Fatma is mastering Python basics.\n"
     ]
    }
   ],
   "source": [
    "print(\"🎯 Week 1 – Part 2 completed! Fatma is mastering Python basics.\")\n"
   ]
  }
 ],
 "metadata": {
  "kernelspec": {
   "display_name": "Python 3 (ipykernel)",
   "language": "python",
   "name": "python3"
  },
  "language_info": {
   "codemirror_mode": {
    "name": "ipython",
    "version": 3
   },
   "file_extension": ".py",
   "mimetype": "text/x-python",
   "name": "python",
   "nbconvert_exporter": "python",
   "pygments_lexer": "ipython3",
   "version": "3.13.2"
  }
 },
 "nbformat": 4,
 "nbformat_minor": 5
}
