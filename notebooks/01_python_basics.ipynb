{
 "cells": [
  {
   "cell_type": "code",
   "execution_count": 18,
   "id": "76edfdb8-75c6-481a-8bcf-b2209163e1b1",
   "metadata": {},
   "outputs": [
    {
     "name": "stdout",
     "output_type": "stream",
     "text": [
      "Hello, Python!\n",
      "Welcome to your AI learning journey, Emel 🚀\n"
     ]
    }
   ],
   "source": [
    "print(\"Hello, Python!\")\n",
    "print(\"Welcome to your AI learning journey, Emel 🚀\")\n"
   ]
  },
  {
   "cell_type": "code",
   "execution_count": 19,
   "id": "c0f93e12-29ab-45b7-af9e-46ac91041087",
   "metadata": {},
   "outputs": [
    {
     "name": "stdout",
     "output_type": "stream",
     "text": [
      "Emel will become an AI & Data Specialist in 18 months.\n"
     ]
    }
   ],
   "source": [
    "name = \"Emel\"\n",
    "role = \"AI & Data Specialist\"\n",
    "months = 18\n",
    "print(f\"{name} will become an {role} in {months} months.\")\n"
   ]
  },
  {
   "cell_type": "code",
   "execution_count": 20,
   "id": "6d2505a8-249d-48d2-93f5-62b7c3730e9a",
   "metadata": {},
   "outputs": [
    {
     "name": "stdout",
     "output_type": "stream",
     "text": [
      "<class 'str'>\n",
      "<class 'int'>\n",
      "<class 'float'>\n",
      "<class 'bool'>\n"
     ]
    }
   ],
   "source": [
    "text = \"Quality Management\"\n",
    "number = 42\n",
    "decimal = 3.14\n",
    "flag = True\n",
    "\n",
    "print(type(text))\n",
    "print(type(number))\n",
    "print(type(decimal))\n",
    "print(type(flag))\n"
   ]
  },
  {
   "cell_type": "code",
   "execution_count": 21,
   "id": "5b233449-e221-450a-a8a8-3511ad1b27d8",
   "metadata": {},
   "outputs": [
    {
     "name": "stdout",
     "output_type": "stream",
     "text": [
      "Learning: Python\n",
      "Learning: Data Analysis\n",
      "Learning: Machine Learning\n",
      "Learning: AI Projects\n"
     ]
    }
   ],
   "source": [
    "modules = [\"Python\", \"Data Analysis\", \"Machine Learning\", \"AI Projects\"]\n",
    "for m in modules:\n",
    "    print(\"Learning:\", m)\n"
   ]
  },
  {
   "cell_type": "code",
   "execution_count": 22,
   "id": "1793ff71-ec23-4bca-8315-8ec57e36b5d7",
   "metadata": {},
   "outputs": [
    {
     "name": "stdout",
     "output_type": "stream",
     "text": [
      "Hello Emel, welcome to your AI journey!\n"
     ]
    }
   ],
   "source": [
    "def say_hello(name):\n",
    "    return f\"Hello {name}, welcome to your AI journey!\"\n",
    "\n",
    "print(say_hello(\"Emel\"))\n"
   ]
  },
  {
   "cell_type": "code",
   "execution_count": 23,
   "id": "5008eaec-4575-490b-a6b3-b3514e952cf6",
   "metadata": {},
   "outputs": [
    {
     "name": "stdout",
     "output_type": "stream",
     "text": [
      "Average Score: 86.6\n"
     ]
    }
   ],
   "source": [
    "scores = [85, 92, 78, 90, 88]\n",
    "average = sum(scores) / len(scores)\n",
    "print(\"Average Score:\", average)\n"
   ]
  },
  {
   "cell_type": "code",
   "execution_count": 24,
   "id": "6be9c7b7-6641-4c9a-aa8e-7ca5a59c2ef8",
   "metadata": {},
   "outputs": [
    {
     "name": "stdout",
     "output_type": "stream",
     "text": [
      "My field is AI-supported QMS, and I will build Conformia within 18 months.\n"
     ]
    }
   ],
   "source": [
    "field = \"AI-supported QMS\"\n",
    "goal = \"build Conformia\"\n",
    "timeline = \"within 18 months\"\n",
    "\n",
    "print(f\"My field is {field}, and I will {goal} {timeline}.\")\n"
   ]
  },
  {
   "cell_type": "code",
   "execution_count": 25,
   "id": "d8e6b187-a4e8-4b30-855b-a473e35a5667",
   "metadata": {},
   "outputs": [
    {
     "name": "stdout",
     "output_type": "stream",
     "text": [
      "🎯 Week 1 - Python Basics completed!\n"
     ]
    }
   ],
   "source": [
    "print(\"🎯 Week 1 - Python Basics completed!\")\n"
   ]
  }
 ],
 "metadata": {
  "kernelspec": {
   "display_name": "Python 3 (ipykernel)",
   "language": "python",
   "name": "python3"
  },
  "language_info": {
   "codemirror_mode": {
    "name": "ipython",
    "version": 3
   },
   "file_extension": ".py",
   "mimetype": "text/x-python",
   "name": "python",
   "nbconvert_exporter": "python",
   "pygments_lexer": "ipython3",
   "version": "3.13.2"
  }
 },
 "nbformat": 4,
 "nbformat_minor": 5
}
