{
 "cells": [
  {
   "cell_type": "code",
   "execution_count": 7,
   "id": "5cb79576-c822-4d74-b080-13c4af55cbea",
   "metadata": {},
   "outputs": [],
   "source": [
    "import os\n",
    "os.makedirs(\"data\", exist_ok=True)   # klasör yoksa oluştur\n"
   ]
  },
  {
   "cell_type": "code",
   "execution_count": 8,
   "id": "fc2ecdc6-e761-449d-bbb0-6313621c5281",
   "metadata": {},
   "outputs": [
    {
     "name": "stdout",
     "output_type": "stream",
     "text": [
      "📁 CSV kaydedildi: /Users/fatmatumer/python-basics/notebooks/data/complaints.csv\n"
     ]
    }
   ],
   "source": [
    "import pandas as pd\n",
    "\n",
    "# Basit bir veri seti oluşturup kaydedelim\n",
    "data = {\n",
    "    \"Complaint ID\": [101, 102, 103, 104],\n",
    "    \"Department\": [\"Production\", \"QA\", \"Supplier\", \"R&D\"],\n",
    "    \"Severity\": [3, 2, 4, 1],\n",
    "    \"Probability\": [2, 3, 4, 1],\n",
    "    \"Status\": [\"Closed\", \"Open\", \"Open\", \"Closed\"]\n",
    "}\n",
    "\n",
    "df = pd.DataFrame(data)\n",
    "df.to_csv(\"data/complaints.csv\", index=False)\n",
    "print(\"📁 CSV kaydedildi:\", os.path.abspath(\"data/complaints.csv\"))\n"
   ]
  },
  {
   "cell_type": "code",
   "execution_count": 9,
   "id": "8c1a2b3b-d4a6-4796-b8e7-a224b1f5d0f4",
   "metadata": {},
   "outputs": [
    {
     "data": {
      "text/html": [
       "<div>\n",
       "<style scoped>\n",
       "    .dataframe tbody tr th:only-of-type {\n",
       "        vertical-align: middle;\n",
       "    }\n",
       "\n",
       "    .dataframe tbody tr th {\n",
       "        vertical-align: top;\n",
       "    }\n",
       "\n",
       "    .dataframe thead th {\n",
       "        text-align: right;\n",
       "    }\n",
       "</style>\n",
       "<table border=\"1\" class=\"dataframe\">\n",
       "  <thead>\n",
       "    <tr style=\"text-align: right;\">\n",
       "      <th></th>\n",
       "      <th>Complaint ID</th>\n",
       "      <th>Department</th>\n",
       "      <th>Severity</th>\n",
       "      <th>Probability</th>\n",
       "      <th>Status</th>\n",
       "    </tr>\n",
       "  </thead>\n",
       "  <tbody>\n",
       "    <tr>\n",
       "      <th>0</th>\n",
       "      <td>101</td>\n",
       "      <td>Production</td>\n",
       "      <td>3</td>\n",
       "      <td>2</td>\n",
       "      <td>Closed</td>\n",
       "    </tr>\n",
       "    <tr>\n",
       "      <th>1</th>\n",
       "      <td>102</td>\n",
       "      <td>QA</td>\n",
       "      <td>2</td>\n",
       "      <td>3</td>\n",
       "      <td>Open</td>\n",
       "    </tr>\n",
       "    <tr>\n",
       "      <th>2</th>\n",
       "      <td>103</td>\n",
       "      <td>Supplier</td>\n",
       "      <td>4</td>\n",
       "      <td>4</td>\n",
       "      <td>Open</td>\n",
       "    </tr>\n",
       "    <tr>\n",
       "      <th>3</th>\n",
       "      <td>104</td>\n",
       "      <td>R&amp;D</td>\n",
       "      <td>1</td>\n",
       "      <td>1</td>\n",
       "      <td>Closed</td>\n",
       "    </tr>\n",
       "  </tbody>\n",
       "</table>\n",
       "</div>"
      ],
      "text/plain": [
       "   Complaint ID  Department  Severity  Probability  Status\n",
       "0           101  Production         3            2  Closed\n",
       "1           102          QA         2            3    Open\n",
       "2           103    Supplier         4            4    Open\n",
       "3           104         R&D         1            1  Closed"
      ]
     },
     "execution_count": 9,
     "metadata": {},
     "output_type": "execute_result"
    }
   ],
   "source": [
    "df = pd.read_csv(\"data/complaints.csv\")\n",
    "df.head()\n"
   ]
  },
  {
   "cell_type": "code",
   "execution_count": 10,
   "id": "d8d731d1-8aea-4452-8b67-f0dae14a7fa5",
   "metadata": {},
   "outputs": [
    {
     "name": "stdout",
     "output_type": "stream",
     "text": [
      "🔹 Satır sayısı: 4\n",
      "🔹 Sütunlar: ['Complaint ID', 'Department', 'Severity', 'Probability', 'Status']\n",
      "\n",
      "Departmanlara göre kayıt sayısı:\n",
      "Department\n",
      "Production    1\n",
      "QA            1\n",
      "Supplier      1\n",
      "R&D           1\n",
      "Name: count, dtype: int64\n"
     ]
    }
   ],
   "source": [
    "print(\"🔹 Satır sayısı:\", len(df))\n",
    "print(\"🔹 Sütunlar:\", list(df.columns))\n",
    "print(\"\\nDepartmanlara göre kayıt sayısı:\")\n",
    "print(df[\"Department\"].value_counts())\n"
   ]
  },
  {
   "cell_type": "code",
   "execution_count": 11,
   "id": "7d8ab830-782b-4d88-ae60-2085af1a98b2",
   "metadata": {},
   "outputs": [
    {
     "data": {
      "text/html": [
       "<div>\n",
       "<style scoped>\n",
       "    .dataframe tbody tr th:only-of-type {\n",
       "        vertical-align: middle;\n",
       "    }\n",
       "\n",
       "    .dataframe tbody tr th {\n",
       "        vertical-align: top;\n",
       "    }\n",
       "\n",
       "    .dataframe thead th {\n",
       "        text-align: right;\n",
       "    }\n",
       "</style>\n",
       "<table border=\"1\" class=\"dataframe\">\n",
       "  <thead>\n",
       "    <tr style=\"text-align: right;\">\n",
       "      <th></th>\n",
       "      <th>Complaint ID</th>\n",
       "      <th>Department</th>\n",
       "      <th>Severity</th>\n",
       "      <th>Probability</th>\n",
       "      <th>Status</th>\n",
       "      <th>Risk Score</th>\n",
       "      <th>Risk Level</th>\n",
       "    </tr>\n",
       "  </thead>\n",
       "  <tbody>\n",
       "    <tr>\n",
       "      <th>0</th>\n",
       "      <td>101</td>\n",
       "      <td>Production</td>\n",
       "      <td>3</td>\n",
       "      <td>2</td>\n",
       "      <td>Closed</td>\n",
       "      <td>6</td>\n",
       "      <td>Medium</td>\n",
       "    </tr>\n",
       "    <tr>\n",
       "      <th>1</th>\n",
       "      <td>102</td>\n",
       "      <td>QA</td>\n",
       "      <td>2</td>\n",
       "      <td>3</td>\n",
       "      <td>Open</td>\n",
       "      <td>6</td>\n",
       "      <td>Medium</td>\n",
       "    </tr>\n",
       "    <tr>\n",
       "      <th>2</th>\n",
       "      <td>103</td>\n",
       "      <td>Supplier</td>\n",
       "      <td>4</td>\n",
       "      <td>4</td>\n",
       "      <td>Open</td>\n",
       "      <td>16</td>\n",
       "      <td>High</td>\n",
       "    </tr>\n",
       "    <tr>\n",
       "      <th>3</th>\n",
       "      <td>104</td>\n",
       "      <td>R&amp;D</td>\n",
       "      <td>1</td>\n",
       "      <td>1</td>\n",
       "      <td>Closed</td>\n",
       "      <td>1</td>\n",
       "      <td>Low</td>\n",
       "    </tr>\n",
       "  </tbody>\n",
       "</table>\n",
       "</div>"
      ],
      "text/plain": [
       "   Complaint ID  Department  Severity  Probability  Status  Risk Score  \\\n",
       "0           101  Production         3            2  Closed           6   \n",
       "1           102          QA         2            3    Open           6   \n",
       "2           103    Supplier         4            4    Open          16   \n",
       "3           104         R&D         1            1  Closed           1   \n",
       "\n",
       "  Risk Level  \n",
       "0     Medium  \n",
       "1     Medium  \n",
       "2       High  \n",
       "3        Low  "
      ]
     },
     "execution_count": 11,
     "metadata": {},
     "output_type": "execute_result"
    }
   ],
   "source": [
    "df[\"Risk Score\"] = df[\"Severity\"] * df[\"Probability\"]\n",
    "df[\"Risk Level\"] = df[\"Risk Score\"].apply(\n",
    "    lambda x: \"Low\" if x < 4 else (\"Medium\" if x < 8 else \"High\")\n",
    ")\n",
    "df\n"
   ]
  },
  {
   "cell_type": "code",
   "execution_count": 12,
   "id": "6aece1f6-7647-4516-845f-24f050aab397",
   "metadata": {},
   "outputs": [
    {
     "data": {
      "text/html": [
       "<div>\n",
       "<style scoped>\n",
       "    .dataframe tbody tr th:only-of-type {\n",
       "        vertical-align: middle;\n",
       "    }\n",
       "\n",
       "    .dataframe tbody tr th {\n",
       "        vertical-align: top;\n",
       "    }\n",
       "\n",
       "    .dataframe thead th {\n",
       "        text-align: right;\n",
       "    }\n",
       "</style>\n",
       "<table border=\"1\" class=\"dataframe\">\n",
       "  <thead>\n",
       "    <tr style=\"text-align: right;\">\n",
       "      <th></th>\n",
       "      <th>Risk Level</th>\n",
       "      <th>Complaint Count</th>\n",
       "    </tr>\n",
       "  </thead>\n",
       "  <tbody>\n",
       "    <tr>\n",
       "      <th>0</th>\n",
       "      <td>High</td>\n",
       "      <td>1</td>\n",
       "    </tr>\n",
       "    <tr>\n",
       "      <th>1</th>\n",
       "      <td>Low</td>\n",
       "      <td>1</td>\n",
       "    </tr>\n",
       "    <tr>\n",
       "      <th>2</th>\n",
       "      <td>Medium</td>\n",
       "      <td>2</td>\n",
       "    </tr>\n",
       "  </tbody>\n",
       "</table>\n",
       "</div>"
      ],
      "text/plain": [
       "  Risk Level  Complaint Count\n",
       "0       High                1\n",
       "1        Low                1\n",
       "2     Medium                2"
      ]
     },
     "execution_count": 12,
     "metadata": {},
     "output_type": "execute_result"
    }
   ],
   "source": [
    "summary = df.groupby(\"Risk Level\")[\"Complaint ID\"].count().reset_index()\n",
    "summary.columns = [\"Risk Level\", \"Complaint Count\"]\n",
    "summary\n"
   ]
  },
  {
   "cell_type": "code",
   "execution_count": 15,
   "id": "eff2cd03-5796-4453-b799-2a94b2a73f04",
   "metadata": {},
   "outputs": [
    {
     "data": {
      "image/png": "[encoded data removed]",
      "text/plain": [
       "<Figure size 640x480 with 1 Axes>"
      ]
     },
     "metadata": {},
     "output_type": "display_data"
    }
   ],
   "source": [
    "import matplotlib.pyplot as plt\n",
    "\n",
    "plt.bar(summary[\"Risk Level\"], summary[\"Complaint Count\"])\n",
    "plt.title(\"Complaint Distribution by Risk Level\")\n",
    "plt.xlabel(\"Risk Level\")\n",
    "plt.ylabel(\"Count\")\n",
    "plt.show()\n"
   ]
  },
  {
   "cell_type": "code",
   "execution_count": 17,
   "id": "35c32938-f05c-48cd-b01c-960444aaf2ba",
   "metadata": {
    "collapsed": true,
    "jupyter": {
     "outputs_hidden": true
    }
   },
   "outputs": [
    {
     "name": "stderr",
     "output_type": "stream",
     "text": [
      "Summarize dataset:  33%|▎| 4/12 [00:00<00:00, 124.56it/s, Describe variable: Ris\n",
      "100%|█████████████████████████████████████████| 7/7 [00:00<00:00, 193158.74it/s]\u001b[A\n",
      "Summarize dataset: 100%|████████████| 16/16 [00:00<00:00, 154.28it/s, Completed]\n",
      "Generate report structure: 100%|██████████████████| 1/1 [00:00<00:00,  2.89it/s]\n",
      "Render HTML: 100%|████████████████████████████████| 1/1 [00:00<00:00, 65.76it/s]\n",
      "Export report to file: 100%|████████████████████| 1/1 [00:00<00:00, 1729.61it/s]"
     ]
    },
    {
     "name": "stdout",
     "output_type": "stream",
     "text": [
      "✅ Profil raporu oluşturuldu: data/complaints_report.html\n"
     ]
    },
    {
     "name": "stderr",
     "output_type": "stream",
     "text": [
      "\n"
     ]
    }
   ],
   "source": [
    "from ydata_profiling import ProfileReport\n",
    "\n",
    "profile = ProfileReport(df, title=\"Complaint Data Report\", explorative=True)\n",
    "profile.to_file(\"data/complaints_report.html\")\n",
    "print(\"✅ Profil raporu oluşturuldu: data/complaints_report.html\")\n"
   ]
  },
  {
   "cell_type": "code",
   "execution_count": 18,
   "id": "91c5f763-0d1d-4535-9ee7-302f5da9c0ec",
   "metadata": {},
   "outputs": [
    {
     "name": "stdout",
     "output_type": "stream",
     "text": [
      "🎯 Week 2 – Part 1 completed! Fatma analyzed data with Pandas successfully.\n"
     ]
    }
   ],
   "source": [
    "print(\"🎯 Week 2 – Part 1 completed! Fatma analyzed data with Pandas successfully.\")\n"
   ]
  }
 ],
 "metadata": {
  "kernelspec": {
   "display_name": "Python 3 (ipykernel)",
   "language": "python",
   "name": "python3"
  },
  "language_info": {
   "codemirror_mode": {
    "name": "ipython",
    "version": 3
   },
   "file_extension": ".py",
   "mimetype": "text/x-python",
   "name": "python",
   "nbconvert_exporter": "python",
   "pygments_lexer": "ipython3",
   "version": "3.13.2"
  }
 },
 "nbformat": 4,
 "nbformat_minor": 5
}
